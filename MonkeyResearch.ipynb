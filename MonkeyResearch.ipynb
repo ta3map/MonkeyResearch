{
 "cells": [
  {
   "cell_type": "markdown",
   "metadata": {
    "colab_type": "text",
    "id": "view-in-github"
   },
   "source": [
    "<a href=\"https://colab.research.google.com/github/ta3map/MonkeyResearch/blob/main/MonkeyResearch.ipynb\" target=\"_parent\"><img src=\"https://colab.research.google.com/assets/colab-badge.svg\" alt=\"Open In Colab\"/></a>"
   ]
  },
  {
   "cell_type": "markdown",
   "metadata": {},
   "source": [
    "# Instalation of dependencies \n",
    "## For Google Colab"
   ]
  },
  {
   "cell_type": "code",
   "execution_count": 1,
   "metadata": {
    "colab": {
     "base_uri": "https://localhost:8080/"
    },
    "id": "sc0vFAmy2Gtg",
    "outputId": "f42572f8-9b38-42cc-8742-d50b493b1459"
   },
   "outputs": [
    {
     "name": "stdout",
     "output_type": "stream",
     "text": [
      "Cloning into 'PySpike'...\n",
      "remote: Enumerating objects: 1798, done.\u001b[K\n",
      "remote: Total 1798 (delta 0), reused 0 (delta 0), pack-reused 1798\u001b[K\n",
      "Receiving objects: 100% (1798/1798), 16.53 MiB | 18.71 MiB/s, done.\n",
      "Resolving deltas: 100% (1242/1242), done.\n"
     ]
    }
   ],
   "source": [
    "!git clone https://github.com/mariomulansky/PySpike.git"
   ]
  },
  {
   "cell_type": "code",
   "execution_count": 2,
   "metadata": {
    "id": "To0BcHjb2_El"
   },
   "outputs": [],
   "source": [
    "!cd PySpike && python setup.py install&> /dev/null"
   ]
  },
  {
   "cell_type": "code",
   "execution_count": 3,
   "metadata": {
    "id": "nRI1yNaB8aV0"
   },
   "outputs": [],
   "source": [
    "import sys\n",
    "sys.path.insert(0,'/usr/local/lib/python3.7/dist-packages/pyspike-0.6.0-py3.7-linux-x86_64.egg')"
   ]
  },
  {
   "cell_type": "code",
   "execution_count": 4,
   "metadata": {
    "colab": {
     "base_uri": "https://localhost:8080/"
    },
    "id": "5CRP7pb7uyWI",
    "outputId": "a9c92cdf-5477-4c82-cce5-a4bd3c1edb49"
   },
   "outputs": [
    {
     "name": "stdout",
     "output_type": "stream",
     "text": [
      "Cloning into 'MonkeyResearch'...\n",
      "remote: Enumerating objects: 66, done.\u001b[K\n",
      "remote: Counting objects: 100% (66/66), done.\u001b[K\n",
      "remote: Compressing objects: 100% (62/62), done.\u001b[K\n",
      "remote: Total 66 (delta 6), reused 63 (delta 3), pack-reused 0\u001b[K\n",
      "Unpacking objects: 100% (66/66), done.\n"
     ]
    }
   ],
   "source": [
    "!git clone https://github.com/ta3map/MonkeyResearch.git"
   ]
  },
  {
   "cell_type": "markdown",
   "metadata": {},
   "source": [
    "## For standalone PC version:"
   ]
  },
  {
   "cell_type": "code",
   "execution_count": 3,
   "metadata": {},
   "outputs": [],
   "source": [
    "main_folder = 'F:\\YandexDisk\\MonkeysDatas'\n",
    "import os\n",
    "os.chdir(main_folder)"
   ]
  },
  {
   "cell_type": "markdown",
   "metadata": {},
   "source": [
    "---"
   ]
  },
  {
   "cell_type": "markdown",
   "metadata": {},
   "source": [
    "# Analysis\n",
    "## 1. Choose the data folder (data_1, data_2, data_3)"
   ]
  },
  {
   "cell_type": "code",
   "execution_count": 16,
   "metadata": {},
   "outputs": [],
   "source": [
    "data_folder = 'data_1'"
   ]
  },
  {
   "cell_type": "markdown",
   "metadata": {},
   "source": [
    "### Pre-sets\n",
    "#### Loading libraries and data settings from the corresponding xlsx protocol file"
   ]
  },
  {
   "cell_type": "code",
   "execution_count": 186,
   "metadata": {
    "id": "Uyou0CoN1Caj"
   },
   "outputs": [],
   "source": [
    "import numpy as np\n",
    "import pyspike as spk\n",
    "from MonkeyResearch import SpFun\n",
    "from matplotlib import pyplot as plt\n",
    "import pandas as pd\n",
    "import pickle\n",
    "from tqdm.notebook import tqdm\n",
    "\n",
    "# read protocol\n",
    "filepath = main_folder + '/MonkeyResearch/protocol/' + data_folder + '.xlsx'\n",
    "protocol = pd.read_excel(filepath, sheet_name=0)\n",
    "set_properties = pd.read_excel(filepath, sheet_name=1)\n",
    "chosen_neuron_numbers = pd.read_excel(filepath, sheet_name=2)\n",
    "neuron_names = protocol['neuron_name'].tolist()\n",
    "\n",
    "# choose neurons\n",
    "# 2 for all neurons\n",
    "# 3 stable\n",
    "\n",
    "chosen_neurons = SpFun.GetNeuronNumbers(2, chosen_neuron_numbers)\n",
    "chosen_neuron_names = SpFun.GetNeuronNames(2, chosen_neuron_numbers)\n",
    "chosen_neurons_number = len(chosen_neurons)\n",
    "\n",
    "#% setA stimuli names and ranges\n",
    "set_names = set_properties['set names'].tolist()\n",
    "shows_number = int(set_properties['shows number'][0])\n",
    "pictures_number = int(set_properties['pictures number'][0])\n",
    "stimuli_number = len(set_names)\n",
    "neurons_number = len(protocol)"
   ]
  },
  {
   "cell_type": "markdown",
   "metadata": {},
   "source": [
    "### Load Data"
   ]
  },
  {
   "cell_type": "code",
   "execution_count": 18,
   "metadata": {
    "id": "AF_tkwKq-Did"
   },
   "outputs": [
    {
     "data": {
      "text/plain": [
       "(36, 8, 15, 20)"
      ]
     },
     "execution_count": 18,
     "metadata": {},
     "output_type": "execute_result"
    }
   ],
   "source": [
    "filepath = main_folder + '/MonkeyResearch/data/' + data_folder + ''\n",
    "with open(filepath, 'rb') as f:\n",
    "    spikeTrains = pickle.load(f)\n",
    "np.shape(spikeTrains)"
   ]
  },
  {
   "cell_type": "markdown",
   "metadata": {},
   "source": [
    "(neurons, categories, pictures, showings)\n",
    "\n",
    "**data_1** and **data_2** have a shape (36, 8, 15, 20):\n",
    "- 36 neurons\n",
    "- 8 categories\n",
    "- 15 pictures\n",
    "- 20 showings\n",
    "\n",
    "**data_3** has a shape (74, 12, 10, 20):\n",
    "- 74 neurons\n",
    "- 12 categories\n",
    "- 10 pictures\n",
    "- 20 showings"
   ]
  },
  {
   "cell_type": "markdown",
   "metadata": {},
   "source": [
    "## 2. Extract spike-train parameters\n",
    "### Directions"
   ]
  },
  {
   "cell_type": "code",
   "execution_count": 240,
   "metadata": {},
   "outputs": [],
   "source": [
    "# get spike trains from the range (e.g. control or response times)\n",
    "# getFromRange1D(spikeTrains[0,0,0,7]) # example\n",
    "def getFromRange1D(Train, start_time, end_time):# for 1D spike train array\n",
    "    return Train[(Train >= start_time) & (Train <= end_time)]\n",
    "GetFromRange = np.vectorize(getFromRange1D, otypes=[object])# vectorization for multidimensional array\n",
    "\n",
    "# changing the format according to PySpike library\n",
    "def spikeTrain1D(Train, start_time, end_time):# for 1D spike train array\n",
    "    edges = [start_time, end_time]\n",
    "    if (np.size(Train)) == 0:\n",
    "            Train = np.zeros(1)\n",
    "            silent_neuron = True\n",
    "    return spk.SpikeTrain(Train, edges)\n",
    "SpikeTrains = np.vectorize(spikeTrain1D, otypes=[object])# vectorization for multidimensional array\n",
    "\n",
    "# directionality matrix for single showing\n",
    "def singleDirectionalityMatrix(spike_times, start_time, end_time):\n",
    "    Trains = SpikeTrains(spike_times, start_time, end_time)\n",
    "    direction = spk.spike_directionality_matrix(Trains, max_tau = 25)\n",
    "    return direction\n",
    "#DirectionalityMatrix = np.vectorize(singleDirectionalityMatrix, otypes=[object])\n",
    "\n",
    "def DirectionalityMatrix(Trains, start_time, end_time):# for multidimensional array\n",
    "    categories = np.size(Trains, 1)\n",
    "    pictures = np.size(Trains, 2)\n",
    "    shows = np.size(Trains, 3)\n",
    "    data_c = []# category (baby, grooming ...)\n",
    "    for c in tqdm(range(categories)):\n",
    "        data_p = []# pictures(1, 2, 3 ...)\n",
    "        for p in range(pictures):\n",
    "            data_s = []# shows (1, 2, 3 ...)\n",
    "            for s in range(shows):\n",
    "                spike_times = Trains[:, c, p, s]\n",
    "                data = singleDirectionalityMatrix(spike_times, start_time, end_time)\n",
    "                data = np.squeeze(data)\n",
    "                data_s.append(data)\n",
    "            data_p.append(data_s)\n",
    "        data_c.append(data_p)\n",
    "    return np.array(data_c)"
   ]
  },
  {
   "cell_type": "markdown",
   "metadata": {},
   "source": [
    "### All Spike Trains\n",
    "that we can get from the **control** and the **response** ranges"
   ]
  },
  {
   "cell_type": "code",
   "execution_count": 241,
   "metadata": {},
   "outputs": [],
   "source": [
    "controlTrains = GetFromRange(spikeTrains, start_time = -100, end_time = 0)\n",
    "responseTrains = GetFromRange(spikeTrains, start_time = 100, end_time = 200)"
   ]
  },
  {
   "cell_type": "markdown",
   "metadata": {},
   "source": [
    "### Example 1 - an instance of Directionality Matrix"
   ]
  },
  {
   "cell_type": "markdown",
   "metadata": {},
   "source": [
    "An example of directionality matrix for **one showing**:\n",
    "(**all neurons**, first category, first picture, first showing)"
   ]
  },
  {
   "cell_type": "code",
   "execution_count": 242,
   "metadata": {},
   "outputs": [
    {
     "data": {
      "image/png": "[encoded data removed]",
      "text/plain": [
       "<Figure size 600x400 with 2 Axes>"
      ]
     },
     "metadata": {
      "needs_background": "light"
     },
     "output_type": "display_data"
    }
   ],
   "source": [
    "spike_times = controlTrains[:, 0, 0, 0]\n",
    "\n",
    "Trains = SpikeTrains(spike_times, start_time = -1000, end_time = 1000)\n",
    "direction = spk.spike_directionality_matrix(Trains, max_tau = 25)\n",
    "\n",
    "plt.figure(0, dpi = 100)\n",
    "plt.imshow(direction)\n",
    "plt.xlabel('neurons')\n",
    "plt.ylabel('neurons')\n",
    "plt.colorbar()\n",
    "plt.title('Directionality of One showing of a singular picture');"
   ]
  },
  {
   "cell_type": "markdown",
   "metadata": {},
   "source": [
    "1 is leader, -1 is follower"
   ]
  },
  {
   "cell_type": "markdown",
   "metadata": {},
   "source": [
    "### All directionality matrices \n",
    "that we can get from the **control** and the **response** ranges"
   ]
  },
  {
   "cell_type": "code",
   "execution_count": 243,
   "metadata": {},
   "outputs": [
    {
     "data": {
      "application/vnd.jupyter.widget-view+json": {
       "model_id": "e58b402d1b894d1dbc6cca648aba6e68",
       "version_major": 2,
       "version_minor": 0
      },
      "text/plain": [
       "  0%|          | 0/8 [00:00<?, ?it/s]"
      ]
     },
     "metadata": {},
     "output_type": "display_data"
    },
    {
     "data": {
      "application/vnd.jupyter.widget-view+json": {
       "model_id": "f0504c7cf08e44bbb3f85c0036d3f6dd",
       "version_major": 2,
       "version_minor": 0
      },
      "text/plain": [
       "  0%|          | 0/8 [00:00<?, ?it/s]"
      ]
     },
     "metadata": {},
     "output_type": "display_data"
    },
    {
     "data": {
      "text/plain": [
       "(8, 15, 20, 36, 36)"
      ]
     },
     "execution_count": 243,
     "metadata": {},
     "output_type": "execute_result"
    }
   ],
   "source": [
    "control_D = DirectionalityMatrix(controlTrains, -100, 0)\n",
    "response_D = DirectionalityMatrix(responseTrains, 100, 200)\n",
    "effect_D = response_D - control_D\n",
    "np.shape(effect_D)"
   ]
  },
  {
   "cell_type": "markdown",
   "metadata": {},
   "source": [
    "Now we have **Directionality matrices of an effect** that correspond to all categories, all pictures, all showings. \n",
    "\n",
    "The shape is:\n",
    "(categories, pictures, showings, neurons, neurons)\n"
   ]
  },
  {
   "cell_type": "markdown",
   "metadata": {},
   "source": [
    "### Example 2 - average Directionality Matrix\n",
    "Let's look at example of **average directionality matrix** of one picture from one category"
   ]
  },
  {
   "cell_type": "code",
   "execution_count": 257,
   "metadata": {},
   "outputs": [
    {
     "data": {
      "image/png": "[encoded data removed]",
      "text/plain": [
       "<Figure size 600x400 with 2 Axes>"
      ]
     },
     "metadata": {
      "needs_background": "light"
     },
     "output_type": "display_data"
    }
   ],
   "source": [
    "direction = np.mean(effect_D[0, 0, :], 0)# all showings of the first picture of the first category \n",
    "plt.figure(0, dpi = 100)\n",
    "plt.imshow(direction)\n",
    "plt.xlabel('neurons')\n",
    "plt.ylabel('neurons')\n",
    "plt.colorbar()\n",
    "plt.title('average Directionality Matrix of a 1st picture, ' + '1st category');"
   ]
  },
  {
   "cell_type": "markdown",
   "metadata": {},
   "source": [
    "### All average Directionality Matrices"
   ]
  },
  {
   "cell_type": "code",
   "execution_count": null,
   "metadata": {},
   "outputs": [],
   "source": []
  },
  {
   "cell_type": "markdown",
   "metadata": {},
   "source": [
    "#### Sorting"
   ]
  },
  {
   "cell_type": "code",
   "execution_count": null,
   "metadata": {},
   "outputs": [],
   "source": []
  },
  {
   "cell_type": "markdown",
   "metadata": {},
   "source": [
    "### Graphs\n",
    "#### Making a graph for each showing"
   ]
  },
  {
   "cell_type": "code",
   "execution_count": null,
   "metadata": {},
   "outputs": [],
   "source": [
    "# load directions"
   ]
  },
  {
   "cell_type": "markdown",
   "metadata": {},
   "source": [
    "#### Node degrees"
   ]
  },
  {
   "cell_type": "code",
   "execution_count": null,
   "metadata": {},
   "outputs": [],
   "source": [
    "# Save in-degrees and out-degrees"
   ]
  },
  {
   "cell_type": "markdown",
   "metadata": {},
   "source": [
    "#### Statistics"
   ]
  },
  {
   "cell_type": "code",
   "execution_count": null,
   "metadata": {},
   "outputs": [],
   "source": []
  }
 ],
 "metadata": {
  "colab": {
   "authorship_tag": "ABX9TyM43QuXFnqA/5+K5gfeHDQg",
   "include_colab_link": true,
   "name": "MonkeyResearch.ipynb",
   "provenance": []
  },
  "kernelspec": {
   "display_name": "Python 3",
   "language": "python",
   "name": "python3"
  },
  "language_info": {
   "codemirror_mode": {
    "name": "ipython",
    "version": 3
   },
   "file_extension": ".py",
   "mimetype": "text/x-python",
   "name": "python",
   "nbconvert_exporter": "python",
   "pygments_lexer": "ipython3",
   "version": "3.8.3"
  }
 },
 "nbformat": 4,
 "nbformat_minor": 1
}
