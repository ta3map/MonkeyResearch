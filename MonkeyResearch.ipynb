{
  "nbformat": 4,
  "nbformat_minor": 0,
  "metadata": {
    "colab": {
      "name": "MonkeyResearch.ipynb",
      "provenance": [],
      "authorship_tag": "ABX9TyM43QuXFnqA/5+K5gfeHDQg",
      "include_colab_link": true
    },
    "kernelspec": {
      "name": "python3",
      "display_name": "Python 3"
    },
    "language_info": {
      "name": "python"
    }
  },
  "cells": [
    {
      "cell_type": "markdown",
      "metadata": {
        "id": "view-in-github",
        "colab_type": "text"
      },
      "source": [
        "<a href=\"https://colab.research.google.com/github/ta3map/MonkeyResearch/blob/main/MonkeyResearch.ipynb\" target=\"_parent\"><img src=\"https://colab.research.google.com/assets/colab-badge.svg\" alt=\"Open In Colab\"/></a>"
      ]
    },
    {
      "cell_type": "code",
      "metadata": {
        "colab": {
          "base_uri": "https://localhost:8080/"
        },
        "id": "sc0vFAmy2Gtg",
        "outputId": "f42572f8-9b38-42cc-8742-d50b493b1459"
      },
      "source": [
        "!git clone https://github.com/mariomulansky/PySpike.git"
      ],
      "execution_count": 1,
      "outputs": [
        {
          "output_type": "stream",
          "text": [
            "Cloning into 'PySpike'...\n",
            "remote: Enumerating objects: 1798, done.\u001b[K\n",
            "remote: Total 1798 (delta 0), reused 0 (delta 0), pack-reused 1798\u001b[K\n",
            "Receiving objects: 100% (1798/1798), 16.53 MiB | 18.71 MiB/s, done.\n",
            "Resolving deltas: 100% (1242/1242), done.\n"
          ],
          "name": "stdout"
        }
      ]
    },
    {
      "cell_type": "code",
      "metadata": {
        "id": "To0BcHjb2_El"
      },
      "source": [
        "!cd PySpike && python setup.py install&> /dev/null"
      ],
      "execution_count": 2,
      "outputs": []
    },
    {
      "cell_type": "code",
      "metadata": {
        "id": "nRI1yNaB8aV0"
      },
      "source": [
        "import sys\n",
        "sys.path.insert(0,'/usr/local/lib/python3.7/dist-packages/pyspike-0.6.0-py3.7-linux-x86_64.egg')"
      ],
      "execution_count": 3,
      "outputs": []
    },
    {
      "cell_type": "code",
      "metadata": {
        "colab": {
          "base_uri": "https://localhost:8080/"
        },
        "id": "5CRP7pb7uyWI",
        "outputId": "a9c92cdf-5477-4c82-cce5-a4bd3c1edb49"
      },
      "source": [
        "!git clone https://github.com/ta3map/MonkeyResearch.git"
      ],
      "execution_count": 4,
      "outputs": [
        {
          "output_type": "stream",
          "text": [
            "Cloning into 'MonkeyResearch'...\n",
            "remote: Enumerating objects: 66, done.\u001b[K\n",
            "remote: Counting objects: 100% (66/66), done.\u001b[K\n",
            "remote: Compressing objects: 100% (62/62), done.\u001b[K\n",
            "remote: Total 66 (delta 6), reused 63 (delta 3), pack-reused 0\u001b[K\n",
            "Unpacking objects: 100% (66/66), done.\n"
          ],
          "name": "stdout"
        }
      ]
    },
    {
      "cell_type": "code",
      "metadata": {
        "id": "Uyou0CoN1Caj"
      },
      "source": [
        "import numpy as np\n",
        "import pyspike as spk\n",
        "from MonkeyResearch import SpFun\n",
        "from matplotlib import pyplot as plt\n",
        "import pandas as pd\n",
        "import pickle\n",
        "\n",
        "data_folder = 'data_1'\n",
        "\n",
        "# read protocol\n",
        "filepath = 'MonkeyResearch/protocol/' + data_folder + '.xlsx'\n",
        "protocol = pd.read_excel(filepath, sheet_name=0)\n",
        "set_properties = pd.read_excel(filepath, sheet_name=1)\n",
        "chosen_neuron_numbers = pd.read_excel(filepath, sheet_name=2)\n",
        "neuron_names = protocol['neuron_name'].tolist()\n",
        "\n",
        "\n",
        "# choose neurons\n",
        "# 2 for all neurons\n",
        "# 3 stable\n",
        "\n",
        "chosen_neurons = SpFun.GetNeuronNumbers(2, chosen_neuron_numbers)\n",
        "chosen_neuron_names = SpFun.GetNeuronNames(2, chosen_neuron_numbers)\n",
        "chosen_neurons_number = len(chosen_neurons)\n",
        "\n",
        "#% setA stimuli names and ranges\n",
        "set_names = set_properties['set names'].tolist()\n",
        "shows_number = int(set_properties['shows number'][0])\n",
        "pictures_number = int(set_properties['pictures number'][0])\n",
        "stimuli_number = len(set_names)\n",
        "neurons_number = len(protocol)"
      ],
      "execution_count": 7,
      "outputs": []
    },
    {
      "cell_type": "code",
      "metadata": {
        "id": "AF_tkwKq-Did"
      },
      "source": [
        ""
      ],
      "execution_count": null,
      "outputs": []
    }
  ]
}